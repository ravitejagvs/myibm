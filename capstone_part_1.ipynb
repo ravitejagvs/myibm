{
  "nbformat": 4,
  "nbformat_minor": 0,
  "metadata": {
    "colab": {
      "name": "capstone_part_1.ipynb",
      "provenance": [],
      "collapsed_sections": [],
      "authorship_tag": "ABX9TyMyHVNJluTRo2qf+sHSWMvn",
      "include_colab_link": true
    },
    "kernelspec": {
      "name": "python3",
      "display_name": "Python 3"
    }
  },
  "cells": [
    {
      "cell_type": "markdown",
      "metadata": {
        "id": "view-in-github",
        "colab_type": "text"
      },
      "source": [
        "<a href=\"https://colab.research.google.com/github/ravitejagvs/myibm/blob/master/capstone_part_1.ipynb\" target=\"_parent\"><img src=\"https://colab.research.google.com/assets/colab-badge.svg\" alt=\"Open In Colab\"/></a>"
      ]
    },
    {
      "cell_type": "markdown",
      "metadata": {
        "id": "3uH7hJ5DZsJ2",
        "colab_type": "text"
      },
      "source": [
        "## Coursera Capstone project : Part 1"
      ]
    },
    {
      "cell_type": "markdown",
      "metadata": {
        "id": "bkfcZ921azvQ",
        "colab_type": "text"
      },
      "source": [
        "# Python libraries used"
      ]
    },
    {
      "cell_type": "code",
      "metadata": {
        "id": "syJSgczdZojt",
        "colab_type": "code",
        "colab": {}
      },
      "source": [
        "import numpy as np\n",
        "import pandas as pd\n",
        "\n",
        "import matplotlib.pyplot as plt\n",
        "import matplotlib.cm as cm\n",
        "import matplotlib.colors as colors\n",
        "\n",
        "from pandas.io.json import json_normalize\n",
        "import requests\n",
        "import json\n",
        "\n",
        "from geopy.geocoders import Nominatim\n",
        "from sklearn.cluster import KMeans\n",
        "import folium"
      ],
      "execution_count": 1,
      "outputs": []
    },
    {
      "cell_type": "markdown",
      "metadata": {
        "id": "fyYl4U1La4ap",
        "colab_type": "text"
      },
      "source": [
        "# Problem Description"
      ]
    },
    {
      "cell_type": "markdown",
      "metadata": {
        "id": "2CGn9P6mZpZu",
        "colab_type": "text"
      },
      "source": [
        "As of now, the biggest question around the Globe which is yet to be answered is\n",
        "\n",
        "\"Which Country will be getting the highest share of COVID19 vaccine first?\"\n",
        "\n",
        "Boiling down the question to India - with 17.7% share of World's population, and around 5% of World's active COVID19 cases, it is still an Einstein riddle to solve.\n",
        "\n",
        "In this project we are going to study the number of live cases as on date  across the Sub-continent - India, and cluster each district as per the availability of COVID hospitals and medical centers.\n",
        "\n",
        "The purpose of this study would be to analyse availability of vaccine to the entire Country, to categorise the Country priority wise, to curb the day-by-day increase in number of infections due to inter state travel, community transfer and so on. Few questions as of now are not yet answered, and hece assumed, like the cost of the vaccine and availability.\n",
        "\n",
        "To keep it simple, all hospitals are considered as active COVID19 treating hospitals.  Also, this study is to analyse which district should receive the vaccine first to curb the overall spread of number of cases, but due to unavailability of data of community spread and inter district travel we are restricting our study.\n",
        "\n",
        "Assumptions:\n",
        "\n",
        "To avoid commercialising the Pandemic, I've assumed that vaccine is sold only at hospitals catering to live patients first, to treate patients across all hospitals at an affordable cost of 1000 INR. Comment your views on the same\n",
        "\n",
        "\n",
        "Footnotes:\n",
        "\n",
        "https://www.washingtonpost.com/health/2020/06/04/biggest-challenge-coronavirus-vaccine-could-be-getting-countries-share/\n",
        "\n",
        "---\n",
        "\n"
      ]
    },
    {
      "cell_type": "markdown",
      "metadata": {
        "id": "D4pjzow8avy5",
        "colab_type": "text"
      },
      "source": [
        "# Datasets used:"
      ]
    },
    {
      "cell_type": "markdown",
      "metadata": {
        "id": "jmhFFWiqapo8",
        "colab_type": "text"
      },
      "source": [
        "\n",
        "1.   COVID 19 tracker India dataset (https://api.covid19india.org/v2/state_district_wise)\n",
        "2.   District wise population sensex (https://github.com/ravitejagvs/covid19)\n",
        "3.   Latitude and Longitude from geopy\n",
        "4.   Foursquare API for venuecategories : Hospital and Medical centers\n",
        "5.   Folium for maps"
      ]
    },
    {
      "cell_type": "markdown",
      "metadata": {
        "id": "G49tmsygbD_2",
        "colab_type": "text"
      },
      "source": [
        "# About the Datasets"
      ]
    },
    {
      "cell_type": "markdown",
      "metadata": {
        "id": "knMFBD-ObKu8",
        "colab_type": "text"
      },
      "source": [
        "\n",
        "1.   COVID 19 tracker is used to ttack live COVID19 statistics district wise in India \n",
        "2.   Since the latest sensex reecorded was in 2011, I'll use this sensex data to analyse households around a hospital, power parity of each family, population distribution, ratio of population vulnerable to the disease (by Age)  and so on.\n",
        "3.   geopy to get the latitude and longitudes of each District.\n",
        "4.   Forsquare API to extract latitude and longitudes of venues : Hospital and Medical centers\n",
        "5.   Folium for maps\n",
        "\n",
        "\n",
        "\n",
        "\n",
        "\n",
        "\n",
        "India. "
      ]
    },
    {
      "cell_type": "code",
      "metadata": {
        "id": "Tdummeu0at8s",
        "colab_type": "code",
        "colab": {}
      },
      "source": [
        ""
      ],
      "execution_count": null,
      "outputs": []
    }
  ]
}